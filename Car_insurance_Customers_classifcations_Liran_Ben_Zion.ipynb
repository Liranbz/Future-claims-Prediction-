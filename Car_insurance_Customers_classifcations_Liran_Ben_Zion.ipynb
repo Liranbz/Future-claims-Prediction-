{
  "nbformat": 4,
  "nbformat_minor": 0,
  "metadata": {
    "colab": {
      "name": "Car insurance-Customers classifcations-Liran Ben Zion.ipynb",
      "provenance": [],
      "collapsed_sections": []
    },
    "kernelspec": {
      "name": "python3",
      "display_name": "Python 3"
    },
    "accelerator": "GPU"
  },
  "cells": [
    {
      "cell_type": "markdown",
      "metadata": {
        "id": "MVWZYOPU0Vm9",
        "colab_type": "text"
      },
      "source": [
        "Harel Test for DS-Liran Ben-Zion"
      ]
    },
    {
      "cell_type": "code",
      "metadata": {
        "id": "4Ydtphjx0tXf",
        "colab_type": "code",
        "outputId": "be3677d4-2153-4a90-e4c6-bfd74561dfd0",
        "colab": {
          "base_uri": "https://localhost:8080/",
          "height": 54
        }
      },
      "source": [
        "#connect to colab\n",
        "from google.colab import drive\n",
        "drive.mount('/content/drive')"
      ],
      "execution_count": 0,
      "outputs": [
        {
          "output_type": "stream",
          "text": [
            "Drive already mounted at /content/drive; to attempt to forcibly remount, call drive.mount(\"/content/drive\", force_remount=True).\n"
          ],
          "name": "stdout"
        }
      ]
    },
    {
      "cell_type": "code",
      "metadata": {
        "id": "BN3dniRLq4LU",
        "colab_type": "code",
        "colab": {}
      },
      "source": [
        "#load lib.\n",
        "from matplotlib import pyplot as plt\n",
        "import pandas as pd\n",
        "import seaborn as sns\n",
        "import numpy as np\n",
        "import warnings\n"
      ],
      "execution_count": 0,
      "outputs": []
    },
    {
      "cell_type": "code",
      "metadata": {
        "id": "9uyBwx9Lzuw0",
        "colab_type": "code",
        "colab": {}
      },
      "source": [
        "#load data\n",
        "\n",
        "Customers = pd.read_csv(\"/content/drive/My Drive/Harel/Customers.csv\")\n",
        "Polisot = pd.read_csv(\"/content/drive/My Drive/Harel/Polisot.csv\")\n",
        "Tviot = pd.read_csv(\"/content/drive/My Drive/Harel/Tviot.csv\")"
      ],
      "execution_count": 0,
      "outputs": []
    },
    {
      "cell_type": "code",
      "metadata": {
        "id": "WkVoQt_o5YtP",
        "colab_type": "code",
        "outputId": "285c00f4-258d-4f3b-93df-3b6ce065c6eb",
        "colab": {
          "base_uri": "https://localhost:8080/",
          "height": 629
        }
      },
      "source": [
        "#data info\n",
        "\n",
        "Customers.info()\n",
        "print('_'*40)\n",
        "Tviot.info()\n",
        "print('_'*40)\n",
        "Polisot.info()\n",
        "print('_'*40)"
      ],
      "execution_count": 0,
      "outputs": [
        {
          "output_type": "stream",
          "text": [
            "<class 'pandas.core.frame.DataFrame'>\n",
            "RangeIndex: 8000 entries, 0 to 7999\n",
            "Data columns (total 7 columns):\n",
            "Unnamed: 0            8000 non-null int64\n",
            "ID                    8000 non-null int64\n",
            "Age                   8000 non-null int64\n",
            "Gender                8000 non-null object\n",
            "City                  8000 non-null object\n",
            "Keypls                8000 non-null int64\n",
            "Meshlem_polisa_IND    8000 non-null int64\n",
            "dtypes: int64(5), object(2)\n",
            "memory usage: 437.6+ KB\n",
            "________________________________________\n",
            "<class 'pandas.core.frame.DataFrame'>\n",
            "RangeIndex: 711 entries, 0 to 710\n",
            "Data columns (total 4 columns):\n",
            "Unnamed: 0     711 non-null int64\n",
            "Keypls         711 non-null int64\n",
            "Tvia_number    711 non-null int64\n",
            "Tvia_date      711 non-null object\n",
            "dtypes: int64(3), object(1)\n",
            "memory usage: 22.3+ KB\n",
            "________________________________________\n",
            "<class 'pandas.core.frame.DataFrame'>\n",
            "RangeIndex: 4001 entries, 0 to 4000\n",
            "Data columns (total 7 columns):\n",
            "Unnamed: 0          4001 non-null int64\n",
            "Keypls              4001 non-null int64\n",
            "Rishuy_number       4001 non-null int64\n",
            "Rechecv_Companny    3832 non-null object\n",
            "Manufacture_Year    4001 non-null int64\n",
            "Start_date          4001 non-null object\n",
            "End_date            4001 non-null object\n",
            "dtypes: int64(4), object(3)\n",
            "memory usage: 218.9+ KB\n",
            "________________________________________\n"
          ],
          "name": "stdout"
        }
      ]
    },
    {
      "cell_type": "code",
      "metadata": {
        "id": "N0OzK7oP66SQ",
        "colab_type": "code",
        "colab": {}
      },
      "source": [
        "#convert features to categorical and DT\n",
        "\n",
        "Customers['Gender'] = Customers['Gender'].astype('category')\n",
        "Customers['City'] = Customers['City'].astype('category')\n",
        "Customers['Meshlem_polisa_IND'] = Customers['Meshlem_polisa_IND'].astype('category')\n",
        "\n",
        "Tviot['Tvia_date'] = pd.to_datetime(Tviot['Tvia_date'])\n",
        "\n",
        "Polisot['Rechecv_Companny'] = Polisot['Rechecv_Companny'].astype('category')\n",
        "Polisot['Start_date'] = pd.to_datetime(Polisot['Start_date'])\n",
        "Polisot['End_date'] = pd.to_datetime(Polisot['End_date'])\n"
      ],
      "execution_count": 0,
      "outputs": []
    },
    {
      "cell_type": "code",
      "metadata": {
        "id": "_kGk0hDD2Dlm",
        "colab_type": "code",
        "outputId": "f1877b66-bc53-4df5-91a6-06e7168a5c51",
        "colab": {
          "base_uri": "https://localhost:8080/",
          "height": 204
        }
      },
      "source": [
        "Customers.head(5)"
      ],
      "execution_count": 0,
      "outputs": [
        {
          "output_type": "execute_result",
          "data": {
            "text/html": [
              "<div>\n",
              "<style scoped>\n",
              "    .dataframe tbody tr th:only-of-type {\n",
              "        vertical-align: middle;\n",
              "    }\n",
              "\n",
              "    .dataframe tbody tr th {\n",
              "        vertical-align: top;\n",
              "    }\n",
              "\n",
              "    .dataframe thead th {\n",
              "        text-align: right;\n",
              "    }\n",
              "</style>\n",
              "<table border=\"1\" class=\"dataframe\">\n",
              "  <thead>\n",
              "    <tr style=\"text-align: right;\">\n",
              "      <th></th>\n",
              "      <th>Unnamed: 0</th>\n",
              "      <th>ID</th>\n",
              "      <th>Age</th>\n",
              "      <th>Gender</th>\n",
              "      <th>City</th>\n",
              "      <th>Keypls</th>\n",
              "      <th>Meshlem_polisa_IND</th>\n",
              "    </tr>\n",
              "  </thead>\n",
              "  <tbody>\n",
              "    <tr>\n",
              "      <th>0</th>\n",
              "      <td>0</td>\n",
              "      <td>300600900</td>\n",
              "      <td>39</td>\n",
              "      <td>Male</td>\n",
              "      <td>Tel Aviv</td>\n",
              "      <td>2198</td>\n",
              "      <td>0</td>\n",
              "    </tr>\n",
              "    <tr>\n",
              "      <th>1</th>\n",
              "      <td>1</td>\n",
              "      <td>300600901</td>\n",
              "      <td>44</td>\n",
              "      <td>Male</td>\n",
              "      <td>Jerusalem</td>\n",
              "      <td>1152</td>\n",
              "      <td>0</td>\n",
              "    </tr>\n",
              "    <tr>\n",
              "      <th>2</th>\n",
              "      <td>2</td>\n",
              "      <td>300600902</td>\n",
              "      <td>43</td>\n",
              "      <td>Female</td>\n",
              "      <td>Tel Aviv</td>\n",
              "      <td>4990</td>\n",
              "      <td>0</td>\n",
              "    </tr>\n",
              "    <tr>\n",
              "      <th>3</th>\n",
              "      <td>3</td>\n",
              "      <td>300600903</td>\n",
              "      <td>57</td>\n",
              "      <td>Female</td>\n",
              "      <td>Jerusalem</td>\n",
              "      <td>1543</td>\n",
              "      <td>0</td>\n",
              "    </tr>\n",
              "    <tr>\n",
              "      <th>4</th>\n",
              "      <td>4</td>\n",
              "      <td>300600904</td>\n",
              "      <td>21</td>\n",
              "      <td>Male</td>\n",
              "      <td>Ashdod</td>\n",
              "      <td>3704</td>\n",
              "      <td>0</td>\n",
              "    </tr>\n",
              "  </tbody>\n",
              "</table>\n",
              "</div>"
            ],
            "text/plain": [
              "   Unnamed: 0         ID  Age  Gender       City  Keypls Meshlem_polisa_IND\n",
              "0           0  300600900   39    Male   Tel Aviv    2198                  0\n",
              "1           1  300600901   44    Male  Jerusalem    1152                  0\n",
              "2           2  300600902   43  Female   Tel Aviv    4990                  0\n",
              "3           3  300600903   57  Female  Jerusalem    1543                  0\n",
              "4           4  300600904   21    Male     Ashdod    3704                  0"
            ]
          },
          "metadata": {
            "tags": []
          },
          "execution_count": 5
        }
      ]
    },
    {
      "cell_type": "code",
      "metadata": {
        "id": "50NUm_JT2DtH",
        "colab_type": "code",
        "outputId": "806ea38c-ebd1-4753-a74a-2429097740a8",
        "colab": {
          "base_uri": "https://localhost:8080/",
          "height": 204
        }
      },
      "source": [
        "Polisot.head(5)"
      ],
      "execution_count": 0,
      "outputs": [
        {
          "output_type": "execute_result",
          "data": {
            "text/html": [
              "<div>\n",
              "<style scoped>\n",
              "    .dataframe tbody tr th:only-of-type {\n",
              "        vertical-align: middle;\n",
              "    }\n",
              "\n",
              "    .dataframe tbody tr th {\n",
              "        vertical-align: top;\n",
              "    }\n",
              "\n",
              "    .dataframe thead th {\n",
              "        text-align: right;\n",
              "    }\n",
              "</style>\n",
              "<table border=\"1\" class=\"dataframe\">\n",
              "  <thead>\n",
              "    <tr style=\"text-align: right;\">\n",
              "      <th></th>\n",
              "      <th>Unnamed: 0</th>\n",
              "      <th>Keypls</th>\n",
              "      <th>Rishuy_number</th>\n",
              "      <th>Rechecv_Companny</th>\n",
              "      <th>Manufacture_Year</th>\n",
              "      <th>Start_date</th>\n",
              "      <th>End_date</th>\n",
              "    </tr>\n",
              "  </thead>\n",
              "  <tbody>\n",
              "    <tr>\n",
              "      <th>0</th>\n",
              "      <td>0</td>\n",
              "      <td>1000</td>\n",
              "      <td>73002500</td>\n",
              "      <td>Mazda</td>\n",
              "      <td>0</td>\n",
              "      <td>2016-09-03</td>\n",
              "      <td>2017-09-03</td>\n",
              "    </tr>\n",
              "    <tr>\n",
              "      <th>1</th>\n",
              "      <td>1</td>\n",
              "      <td>1001</td>\n",
              "      <td>73002501</td>\n",
              "      <td>Fiat</td>\n",
              "      <td>2006</td>\n",
              "      <td>2016-04-08</td>\n",
              "      <td>2017-04-08</td>\n",
              "    </tr>\n",
              "    <tr>\n",
              "      <th>2</th>\n",
              "      <td>2</td>\n",
              "      <td>1002</td>\n",
              "      <td>73002502</td>\n",
              "      <td>Mazda</td>\n",
              "      <td>2000</td>\n",
              "      <td>2016-11-11</td>\n",
              "      <td>2017-11-11</td>\n",
              "    </tr>\n",
              "    <tr>\n",
              "      <th>3</th>\n",
              "      <td>3</td>\n",
              "      <td>1003</td>\n",
              "      <td>73002503</td>\n",
              "      <td>Mazda</td>\n",
              "      <td>2010</td>\n",
              "      <td>2016-04-08</td>\n",
              "      <td>2017-04-08</td>\n",
              "    </tr>\n",
              "    <tr>\n",
              "      <th>4</th>\n",
              "      <td>4</td>\n",
              "      <td>1004</td>\n",
              "      <td>73002504</td>\n",
              "      <td>Fiat</td>\n",
              "      <td>2008</td>\n",
              "      <td>2016-01-01</td>\n",
              "      <td>2016-12-31</td>\n",
              "    </tr>\n",
              "  </tbody>\n",
              "</table>\n",
              "</div>"
            ],
            "text/plain": [
              "   Unnamed: 0  Keypls  Rishuy_number  ... Manufacture_Year  Start_date   End_date\n",
              "0           0    1000       73002500  ...                0  2016-09-03 2017-09-03\n",
              "1           1    1001       73002501  ...             2006  2016-04-08 2017-04-08\n",
              "2           2    1002       73002502  ...             2000  2016-11-11 2017-11-11\n",
              "3           3    1003       73002503  ...             2010  2016-04-08 2017-04-08\n",
              "4           4    1004       73002504  ...             2008  2016-01-01 2016-12-31\n",
              "\n",
              "[5 rows x 7 columns]"
            ]
          },
          "metadata": {
            "tags": []
          },
          "execution_count": 6
        }
      ]
    },
    {
      "cell_type": "code",
      "metadata": {
        "id": "HEA9-GEs2D5a",
        "colab_type": "code",
        "outputId": "98605792-6ec3-482e-bf2b-5528a22d3680",
        "colab": {
          "base_uri": "https://localhost:8080/",
          "height": 204
        }
      },
      "source": [
        "Tviot.head(5)"
      ],
      "execution_count": 0,
      "outputs": [
        {
          "output_type": "execute_result",
          "data": {
            "text/html": [
              "<div>\n",
              "<style scoped>\n",
              "    .dataframe tbody tr th:only-of-type {\n",
              "        vertical-align: middle;\n",
              "    }\n",
              "\n",
              "    .dataframe tbody tr th {\n",
              "        vertical-align: top;\n",
              "    }\n",
              "\n",
              "    .dataframe thead th {\n",
              "        text-align: right;\n",
              "    }\n",
              "</style>\n",
              "<table border=\"1\" class=\"dataframe\">\n",
              "  <thead>\n",
              "    <tr style=\"text-align: right;\">\n",
              "      <th></th>\n",
              "      <th>Unnamed: 0</th>\n",
              "      <th>Keypls</th>\n",
              "      <th>Tvia_number</th>\n",
              "      <th>Tvia_date</th>\n",
              "    </tr>\n",
              "  </thead>\n",
              "  <tbody>\n",
              "    <tr>\n",
              "      <th>0</th>\n",
              "      <td>2</td>\n",
              "      <td>1002</td>\n",
              "      <td>4</td>\n",
              "      <td>2016-11-11</td>\n",
              "    </tr>\n",
              "    <tr>\n",
              "      <th>1</th>\n",
              "      <td>4</td>\n",
              "      <td>1004</td>\n",
              "      <td>16</td>\n",
              "      <td>2016-11-29</td>\n",
              "    </tr>\n",
              "    <tr>\n",
              "      <th>2</th>\n",
              "      <td>20</td>\n",
              "      <td>1020</td>\n",
              "      <td>400</td>\n",
              "      <td>2016-05-02</td>\n",
              "    </tr>\n",
              "    <tr>\n",
              "      <th>3</th>\n",
              "      <td>33</td>\n",
              "      <td>1033</td>\n",
              "      <td>1089</td>\n",
              "      <td>2016-07-08</td>\n",
              "    </tr>\n",
              "    <tr>\n",
              "      <th>4</th>\n",
              "      <td>46</td>\n",
              "      <td>1046</td>\n",
              "      <td>2116</td>\n",
              "      <td>2016-06-24</td>\n",
              "    </tr>\n",
              "  </tbody>\n",
              "</table>\n",
              "</div>"
            ],
            "text/plain": [
              "   Unnamed: 0  Keypls  Tvia_number  Tvia_date\n",
              "0           2    1002            4 2016-11-11\n",
              "1           4    1004           16 2016-11-29\n",
              "2          20    1020          400 2016-05-02\n",
              "3          33    1033         1089 2016-07-08\n",
              "4          46    1046         2116 2016-06-24"
            ]
          },
          "metadata": {
            "tags": []
          },
          "execution_count": 7
        }
      ]
    },
    {
      "cell_type": "code",
      "metadata": {
        "id": "UCI_uG8V5xQT",
        "colab_type": "code",
        "colab": {}
      },
      "source": [
        "#remove first col\n",
        "Tviot=Tviot.drop(Tviot.columns[[0]], axis=1)\n",
        "Customers=Customers.drop(Customers.columns[[0]], axis=1)\n",
        "Polisot=Polisot.drop(Polisot.columns[[0]], axis=1)"
      ],
      "execution_count": 0,
      "outputs": []
    },
    {
      "cell_type": "code",
      "metadata": {
        "id": "U5EaJXEH2Dq2",
        "colab_type": "code",
        "colab": {}
      },
      "source": [
        "# visualize missing values\n",
        "import missingno as msno\n",
        "import time\n",
        "import pprint as pp\n",
        "from termcolor import colored\n",
        "import pandas as pd"
      ],
      "execution_count": 0,
      "outputs": []
    },
    {
      "cell_type": "code",
      "metadata": {
        "id": "PSQ1GrXb29Lz",
        "colab_type": "code",
        "colab": {}
      },
      "source": [
        "#function for NA analysis\n",
        "\n",
        "def nan_analysis(df, figure_size=(12, 5)):\n",
        "    # nan ratio in each feature\n",
        "    msno.bar(df, figsize=figure_size)\n",
        "    time.sleep(0.2)\n",
        "    # nan ratio in each row\n",
        "    msno.matrix(df, figsize=figure_size)\n",
        "    time.sleep(0.2)"
      ],
      "execution_count": 0,
      "outputs": []
    },
    {
      "cell_type": "code",
      "metadata": {
        "id": "yW6S3g-429Q9",
        "colab_type": "code",
        "outputId": "9ff0b2c0-1114-4759-ea30-0e672270f1d0",
        "colab": {
          "base_uri": "https://localhost:8080/",
          "height": 916
        }
      },
      "source": [
        "#bar-chart of the number of nans over features\n",
        "#plot of nans over row. It also plots the number of not-nans over the rows.\n",
        "\n",
        "nan_analysis(Customers, figure_size=(5,5))\n"
      ],
      "execution_count": 0,
      "outputs": [
        {
          "output_type": "display_data",
          "data": {
            "image/png": "[encoded data removed]",
            "text/plain": [
              "<Figure size 360x360 with 3 Axes>"
            ]
          },
          "metadata": {
            "tags": []
          }
        },
        {
          "output_type": "display_data",
          "data": {
            "image/png": "[encoded data removed]",
            "text/plain": [
              "<Figure size 360x360 with 2 Axes>"
            ]
          },
          "metadata": {
            "tags": []
          }
        }
      ]
    },
    {
      "cell_type": "code",
      "metadata": {
        "id": "_ttGAHDO29PF",
        "colab_type": "code",
        "outputId": "2a09b1dc-7094-43b9-b468-5c41de37473f",
        "colab": {
          "base_uri": "https://localhost:8080/",
          "height": 914
        }
      },
      "source": [
        "nan_analysis(Polisot, figure_size=(5,5))"
      ],
      "execution_count": 0,
      "outputs": [
        {
          "output_type": "display_data",
          "data": {
            "image/png": "[encoded data removed]",
            "text/plain": [
              "<Figure size 360x360 with 3 Axes>"
            ]
          },
          "metadata": {
            "tags": []
          }
        },
        {
          "output_type": "display_data",
          "data": {
            "image/png": "[encoded data removed]",
            "text/plain": [
              "<Figure size 360x360 with 2 Axes>"
            ]
          },
          "metadata": {
            "tags": []
          }
        }
      ]
    },
    {
      "cell_type": "code",
      "metadata": {
        "id": "2F842Jv04eWa",
        "colab_type": "code",
        "outputId": "38676e26-b0ca-4d3e-ea60-391277ce937e",
        "colab": {
          "base_uri": "https://localhost:8080/",
          "height": 825
        }
      },
      "source": [
        "nan_analysis(Tviot, figure_size=(5,5 ))"
      ],
      "execution_count": 0,
      "outputs": [
        {
          "output_type": "display_data",
          "data": {
            "image/png": "[encoded data removed]",
            "text/plain": [
              "<Figure size 360x360 with 3 Axes>"
            ]
          },
          "metadata": {
            "tags": []
          }
        },
        {
          "output_type": "display_data",
          "data": {
            "image/png": "[encoded data removed]",
            "text/plain": [
              "<Figure size 360x360 with 2 Axes>"
            ]
          },
          "metadata": {
            "tags": []
          }
        }
      ]
    },
    {
      "cell_type": "code",
      "metadata": {
        "id": "QqbRALB74efk",
        "colab_type": "code",
        "colab": {}
      },
      "source": [
        "#drop NA from table Polisot\n",
        "Polisot=Polisot.dropna()"
      ],
      "execution_count": 0,
      "outputs": []
    },
    {
      "cell_type": "code",
      "metadata": {
        "id": "IE5hyTrh4ecX",
        "colab_type": "code",
        "outputId": "1e246fc0-69f2-4fa4-ecda-a3a485d8a0e1",
        "colab": {
          "base_uri": "https://localhost:8080/",
          "height": 913
        }
      },
      "source": [
        "#after removing NA\n",
        "nan_analysis(Polisot, figure_size=(5,5))"
      ],
      "execution_count": 0,
      "outputs": [
        {
          "output_type": "display_data",
          "data": {
            "image/png": "[encoded data removed]",
            "text/plain": [
              "<Figure size 360x360 with 3 Axes>"
            ]
          },
          "metadata": {
            "tags": []
          }
        },
        {
          "output_type": "display_data",
          "data": {
            "image/png": "[encoded data removed]",
            "text/plain": [
              "<Figure size 360x360 with 2 Axes>"
            ]
          },
          "metadata": {
            "tags": []
          }
        }
      ]
    },
    {
      "cell_type": "markdown",
      "metadata": {
        "id": "03yyNhHwLXcn",
        "colab_type": "text"
      },
      "source": [
        "Work on Customers Table"
      ]
    },
    {
      "cell_type": "code",
      "metadata": {
        "id": "oVL97McoG_hD",
        "colab_type": "code",
        "outputId": "5a39e662-ecc9-46ec-c79d-aba91f157adf",
        "colab": {
          "base_uri": "https://localhost:8080/",
          "height": 327
        }
      },
      "source": [
        "#Data Visualization\n",
        "Customers['Gender'].value_counts().plot(kind='bar')\n",
        "plt.title('Gender Distribution', weight='bold', fontsize=16)\n"
      ],
      "execution_count": 0,
      "outputs": [
        {
          "output_type": "execute_result",
          "data": {
            "text/plain": [
              "Text(0.5, 1.0, 'Gender Distribution')"
            ]
          },
          "metadata": {
            "tags": []
          },
          "execution_count": 21
        },
        {
          "output_type": "display_data",
          "data": {
            "image/png": "[encoded data removed]",
            "text/plain": [
              "<Figure size 432x288 with 1 Axes>"
            ]
          },
          "metadata": {
            "tags": []
          }
        }
      ]
    },
    {
      "cell_type": "code",
      "metadata": {
        "id": "yt1SK8YOAWwI",
        "colab_type": "code",
        "outputId": "27e916bc-27e0-4d5e-986b-6d2459bc5cee",
        "colab": {
          "base_uri": "https://localhost:8080/",
          "height": 552
        }
      },
      "source": [
        "# plot a histogram showing the distribution of the target values\n",
        "\n",
        "sns.set(rc={'figure.figsize':(11.7,8.27)})\n",
        "sns.distplot(Customers['Age'], bins=30)\n",
        "plt.title('Age Distribution', weight='bold', fontsize=16)\n"
      ],
      "execution_count": 0,
      "outputs": [
        {
          "output_type": "execute_result",
          "data": {
            "text/plain": [
              "Text(0.5, 1.0, 'Age Distribution')"
            ]
          },
          "metadata": {
            "tags": []
          },
          "execution_count": 22
        },
        {
          "output_type": "display_data",
          "data": {
            "image/png": "[encoded data removed]",
            "text/plain": [
              "<Figure size 842.4x595.44 with 1 Axes>"
            ]
          },
          "metadata": {
            "tags": []
          }
        }
      ]
    },
    {
      "cell_type": "code",
      "metadata": {
        "id": "tHA8RRNKGu7z",
        "colab_type": "code",
        "outputId": "f5eb82e2-dde6-405d-e270-15014a608ff5",
        "colab": {
          "base_uri": "https://localhost:8080/",
          "height": 535
        }
      },
      "source": [
        "#plot 2:\n",
        "Customers.groupby('Gender').Age.plot(kind='kde')\n",
        "plt.title('Age Distribution By Gender', weight='bold', fontsize=16)\n",
        "\n"
      ],
      "execution_count": 0,
      "outputs": [
        {
          "output_type": "execute_result",
          "data": {
            "text/plain": [
              "Text(0.5, 1.0, 'Age Distribution By Gender')"
            ]
          },
          "metadata": {
            "tags": []
          },
          "execution_count": 23
        },
        {
          "output_type": "display_data",
          "data": {
            "image/png": "[encoded data removed]",
            "text/plain": [
              "<Figure size 842.4x595.44 with 1 Axes>"
            ]
          },
          "metadata": {
            "tags": []
          }
        }
      ]
    },
    {
      "cell_type": "code",
      "metadata": {
        "id": "e7WoLSrmEABK",
        "colab_type": "code",
        "outputId": "af505f57-4d7b-4efa-924f-6460c767686b",
        "colab": {
          "base_uri": "https://localhost:8080/",
          "height": 532
        }
      },
      "source": [
        "#plot 3:\n",
        "Customers['Meshlem_polisa_IND'].value_counts().plot(kind='bar')\n",
        "plt.title('Meshlem_polisa_IND Distribution', weight='bold', fontsize=16)\n"
      ],
      "execution_count": 0,
      "outputs": [
        {
          "output_type": "execute_result",
          "data": {
            "text/plain": [
              "Text(0.5, 1.0, 'Meshlem_polisa_IND Distribution')"
            ]
          },
          "metadata": {
            "tags": []
          },
          "execution_count": 24
        },
        {
          "output_type": "display_data",
          "data": {
            "image/png": "[encoded data removed]",
            "text/plain": [
              "<Figure size 842.4x595.44 with 1 Axes>"
            ]
          },
          "metadata": {
            "tags": []
          }
        }
      ]
    },
    {
      "cell_type": "code",
      "metadata": {
        "id": "hiUl3qjtFUJp",
        "colab_type": "code",
        "outputId": "42099402-b3e6-4b68-babb-a6407c95cd38",
        "colab": {
          "base_uri": "https://localhost:8080/",
          "height": 580
        }
      },
      "source": [
        "#plot 4:\n",
        "Customers['City'].value_counts().plot(kind='bar')\n",
        "plt.title('City Distribution', weight='bold', fontsize=16)\n"
      ],
      "execution_count": 0,
      "outputs": [
        {
          "output_type": "execute_result",
          "data": {
            "text/plain": [
              "Text(0.5, 1.0, 'City Distribution')"
            ]
          },
          "metadata": {
            "tags": []
          },
          "execution_count": 26
        },
        {
          "output_type": "display_data",
          "data": {
            "image/png": "[encoded data removed]",
            "text/plain": [
              "<Figure size 842.4x595.44 with 1 Axes>"
            ]
          },
          "metadata": {
            "tags": []
          }
        }
      ]
    },
    {
      "cell_type": "code",
      "metadata": {
        "id": "HIh_cCI4HNzl",
        "colab_type": "code",
        "outputId": "8dbdbbb5-9369-4c86-b3ce-2d7fe27ab757",
        "colab": {
          "base_uri": "https://localhost:8080/",
          "height": 535
        }
      },
      "source": [
        "#plot 5:\n",
        "Customers.groupby('City').Age.plot(kind='kde')\n",
        "plt.title('Age Density by City', weight='bold', fontsize=16)\n",
        "\n",
        "#plt.legend(ncol=2, loc='upper left')\n"
      ],
      "execution_count": 0,
      "outputs": [
        {
          "output_type": "execute_result",
          "data": {
            "text/plain": [
              "Text(0.5, 1.0, 'Age Density by City')"
            ]
          },
          "metadata": {
            "tags": []
          },
          "execution_count": 27
        },
        {
          "output_type": "display_data",
          "data": {
            "image/png": "[encoded data removed]",
            "text/plain": [
              "<Figure size 842.4x595.44 with 1 Axes>"
            ]
          },
          "metadata": {
            "tags": []
          }
        }
      ]
    },
    {
      "cell_type": "code",
      "metadata": {
        "id": "d42zHU0fJJNV",
        "colab_type": "code",
        "outputId": "bdc4e95b-76b6-4bd7-d5ab-0cd1e448d001",
        "colab": {
          "base_uri": "https://localhost:8080/",
          "height": 383
        }
      },
      "source": [
        "# Box Plotting\n",
        "sns.catplot(x='City', y='Age', data=Customers, kind='box', hue='Gender', aspect=2)\n",
        "plt.title('Box Plot of Age by Gender and City', weight='bold', fontsize=16)\n",
        "plt.show()"
      ],
      "execution_count": 0,
      "outputs": [
        {
          "output_type": "display_data",
          "data": {
            "image/png": "[encoded data removed]",
            "text/plain": [
              "<Figure size 800.35x360 with 1 Axes>"
            ]
          },
          "metadata": {
            "tags": []
          }
        }
      ]
    },
    {
      "cell_type": "code",
      "metadata": {
        "id": "IbbqU-ElMvsb",
        "colab_type": "code",
        "colab": {}
      },
      "source": [
        "  #converting Gender feature to a new feature called Gender where female=1 and male=0.\n",
        "  Customers['Gender'] = Customers['Gender'].map( {'Female': 1, 'Male': 0} ).astype(int)\n"
      ],
      "execution_count": 0,
      "outputs": []
    },
    {
      "cell_type": "code",
      "metadata": {
        "id": "GBgQbe-WOi1H",
        "colab_type": "code",
        "colab": {}
      },
      "source": [
        "#Encode cities\n",
        "Customers['City'] = Customers['City'].cat.codes\n"
      ],
      "execution_count": 0,
      "outputs": []
    },
    {
      "cell_type": "code",
      "metadata": {
        "id": "DcWMb1v6M7ls",
        "colab_type": "code",
        "outputId": "90b4a78c-42ba-4a04-99b5-bc5ab77a6f7a",
        "colab": {
          "base_uri": "https://localhost:8080/",
          "height": 204
        }
      },
      "source": [
        "Customers.head()"
      ],
      "execution_count": 0,
      "outputs": [
        {
          "output_type": "execute_result",
          "data": {
            "text/html": [
              "<div>\n",
              "<style scoped>\n",
              "    .dataframe tbody tr th:only-of-type {\n",
              "        vertical-align: middle;\n",
              "    }\n",
              "\n",
              "    .dataframe tbody tr th {\n",
              "        vertical-align: top;\n",
              "    }\n",
              "\n",
              "    .dataframe thead th {\n",
              "        text-align: right;\n",
              "    }\n",
              "</style>\n",
              "<table border=\"1\" class=\"dataframe\">\n",
              "  <thead>\n",
              "    <tr style=\"text-align: right;\">\n",
              "      <th></th>\n",
              "      <th>ID</th>\n",
              "      <th>Age</th>\n",
              "      <th>Gender</th>\n",
              "      <th>City</th>\n",
              "      <th>Keypls</th>\n",
              "      <th>Meshlem_polisa_IND</th>\n",
              "    </tr>\n",
              "  </thead>\n",
              "  <tbody>\n",
              "    <tr>\n",
              "      <th>0</th>\n",
              "      <td>300600900</td>\n",
              "      <td>39</td>\n",
              "      <td>0</td>\n",
              "      <td>4</td>\n",
              "      <td>2198</td>\n",
              "      <td>0</td>\n",
              "    </tr>\n",
              "    <tr>\n",
              "      <th>1</th>\n",
              "      <td>300600901</td>\n",
              "      <td>44</td>\n",
              "      <td>0</td>\n",
              "      <td>3</td>\n",
              "      <td>1152</td>\n",
              "      <td>0</td>\n",
              "    </tr>\n",
              "    <tr>\n",
              "      <th>2</th>\n",
              "      <td>300600902</td>\n",
              "      <td>43</td>\n",
              "      <td>1</td>\n",
              "      <td>4</td>\n",
              "      <td>4990</td>\n",
              "      <td>0</td>\n",
              "    </tr>\n",
              "    <tr>\n",
              "      <th>3</th>\n",
              "      <td>300600903</td>\n",
              "      <td>57</td>\n",
              "      <td>1</td>\n",
              "      <td>3</td>\n",
              "      <td>1543</td>\n",
              "      <td>0</td>\n",
              "    </tr>\n",
              "    <tr>\n",
              "      <th>4</th>\n",
              "      <td>300600904</td>\n",
              "      <td>21</td>\n",
              "      <td>0</td>\n",
              "      <td>0</td>\n",
              "      <td>3704</td>\n",
              "      <td>0</td>\n",
              "    </tr>\n",
              "  </tbody>\n",
              "</table>\n",
              "</div>"
            ],
            "text/plain": [
              "          ID  Age  Gender  City  Keypls Meshlem_polisa_IND\n",
              "0  300600900   39       0     4    2198                  0\n",
              "1  300600901   44       0     3    1152                  0\n",
              "2  300600902   43       1     4    4990                  0\n",
              "3  300600903   57       1     3    1543                  0\n",
              "4  300600904   21       0     0    3704                  0"
            ]
          },
          "metadata": {
            "tags": []
          },
          "execution_count": 31
        }
      ]
    },
    {
      "cell_type": "markdown",
      "metadata": {
        "id": "BVsGC3heLOUv",
        "colab_type": "text"
      },
      "source": [
        "Work On Polisot Table"
      ]
    },
    {
      "cell_type": "code",
      "metadata": {
        "id": "QZFzpzLvLHR9",
        "colab_type": "code",
        "outputId": "bf0f2e02-9f4d-4bfc-ab1a-3cfcd36b1b4e",
        "colab": {
          "base_uri": "https://localhost:8080/",
          "height": 204
        }
      },
      "source": [
        "Tviot.head(5)"
      ],
      "execution_count": 0,
      "outputs": [
        {
          "output_type": "execute_result",
          "data": {
            "text/html": [
              "<div>\n",
              "<style scoped>\n",
              "    .dataframe tbody tr th:only-of-type {\n",
              "        vertical-align: middle;\n",
              "    }\n",
              "\n",
              "    .dataframe tbody tr th {\n",
              "        vertical-align: top;\n",
              "    }\n",
              "\n",
              "    .dataframe thead th {\n",
              "        text-align: right;\n",
              "    }\n",
              "</style>\n",
              "<table border=\"1\" class=\"dataframe\">\n",
              "  <thead>\n",
              "    <tr style=\"text-align: right;\">\n",
              "      <th></th>\n",
              "      <th>Keypls</th>\n",
              "      <th>Tvia_number</th>\n",
              "      <th>Tvia_date</th>\n",
              "    </tr>\n",
              "  </thead>\n",
              "  <tbody>\n",
              "    <tr>\n",
              "      <th>0</th>\n",
              "      <td>1002</td>\n",
              "      <td>4</td>\n",
              "      <td>2016-11-11</td>\n",
              "    </tr>\n",
              "    <tr>\n",
              "      <th>1</th>\n",
              "      <td>1004</td>\n",
              "      <td>16</td>\n",
              "      <td>2016-11-29</td>\n",
              "    </tr>\n",
              "    <tr>\n",
              "      <th>2</th>\n",
              "      <td>1020</td>\n",
              "      <td>400</td>\n",
              "      <td>2016-05-02</td>\n",
              "    </tr>\n",
              "    <tr>\n",
              "      <th>3</th>\n",
              "      <td>1033</td>\n",
              "      <td>1089</td>\n",
              "      <td>2016-07-08</td>\n",
              "    </tr>\n",
              "    <tr>\n",
              "      <th>4</th>\n",
              "      <td>1046</td>\n",
              "      <td>2116</td>\n",
              "      <td>2016-06-24</td>\n",
              "    </tr>\n",
              "  </tbody>\n",
              "</table>\n",
              "</div>"
            ],
            "text/plain": [
              "   Keypls  Tvia_number  Tvia_date\n",
              "0    1002            4 2016-11-11\n",
              "1    1004           16 2016-11-29\n",
              "2    1020          400 2016-05-02\n",
              "3    1033         1089 2016-07-08\n",
              "4    1046         2116 2016-06-24"
            ]
          },
          "metadata": {
            "tags": []
          },
          "execution_count": 32
        }
      ]
    },
    {
      "cell_type": "code",
      "metadata": {
        "id": "xl_0MYzZMXSZ",
        "colab_type": "code",
        "outputId": "cc7bd7bb-2561-4639-a8f2-abedc1597b62",
        "colab": {
          "base_uri": "https://localhost:8080/",
          "height": 204
        }
      },
      "source": [
        "#create feature of has_Tvia\n",
        "Tviot['has_Tvia'] = 0\n",
        "Tviot.loc[Tviot['Tvia_number'] > 0, 'has_Tvia'] = 1 \n",
        "Tviot.head(5)"
      ],
      "execution_count": 0,
      "outputs": [
        {
          "output_type": "execute_result",
          "data": {
            "text/html": [
              "<div>\n",
              "<style scoped>\n",
              "    .dataframe tbody tr th:only-of-type {\n",
              "        vertical-align: middle;\n",
              "    }\n",
              "\n",
              "    .dataframe tbody tr th {\n",
              "        vertical-align: top;\n",
              "    }\n",
              "\n",
              "    .dataframe thead th {\n",
              "        text-align: right;\n",
              "    }\n",
              "</style>\n",
              "<table border=\"1\" class=\"dataframe\">\n",
              "  <thead>\n",
              "    <tr style=\"text-align: right;\">\n",
              "      <th></th>\n",
              "      <th>Keypls</th>\n",
              "      <th>Tvia_number</th>\n",
              "      <th>Tvia_date</th>\n",
              "      <th>has_Tvia</th>\n",
              "    </tr>\n",
              "  </thead>\n",
              "  <tbody>\n",
              "    <tr>\n",
              "      <th>0</th>\n",
              "      <td>1002</td>\n",
              "      <td>4</td>\n",
              "      <td>2016-11-11</td>\n",
              "      <td>1</td>\n",
              "    </tr>\n",
              "    <tr>\n",
              "      <th>1</th>\n",
              "      <td>1004</td>\n",
              "      <td>16</td>\n",
              "      <td>2016-11-29</td>\n",
              "      <td>1</td>\n",
              "    </tr>\n",
              "    <tr>\n",
              "      <th>2</th>\n",
              "      <td>1020</td>\n",
              "      <td>400</td>\n",
              "      <td>2016-05-02</td>\n",
              "      <td>1</td>\n",
              "    </tr>\n",
              "    <tr>\n",
              "      <th>3</th>\n",
              "      <td>1033</td>\n",
              "      <td>1089</td>\n",
              "      <td>2016-07-08</td>\n",
              "      <td>1</td>\n",
              "    </tr>\n",
              "    <tr>\n",
              "      <th>4</th>\n",
              "      <td>1046</td>\n",
              "      <td>2116</td>\n",
              "      <td>2016-06-24</td>\n",
              "      <td>1</td>\n",
              "    </tr>\n",
              "  </tbody>\n",
              "</table>\n",
              "</div>"
            ],
            "text/plain": [
              "   Keypls  Tvia_number  Tvia_date  has_Tvia\n",
              "0    1002            4 2016-11-11         1\n",
              "1    1004           16 2016-11-29         1\n",
              "2    1020          400 2016-05-02         1\n",
              "3    1033         1089 2016-07-08         1\n",
              "4    1046         2116 2016-06-24         1"
            ]
          },
          "metadata": {
            "tags": []
          },
          "execution_count": 33
        }
      ]
    },
    {
      "cell_type": "code",
      "metadata": {
        "id": "s28Xu1oBRAeU",
        "colab_type": "code",
        "outputId": "0099c742-f093-497f-fd41-f0c08f7a56f8",
        "colab": {
          "base_uri": "https://localhost:8080/",
          "height": 624
        }
      },
      "source": [
        "#plot 8:\n",
        "Tviot['Tvia_date'].value_counts().plot(kind='bar')\n"
      ],
      "execution_count": 0,
      "outputs": [
        {
          "output_type": "execute_result",
          "data": {
            "text/plain": [
              "<matplotlib.axes._subplots.AxesSubplot at 0x7fd89b930278>"
            ]
          },
          "metadata": {
            "tags": []
          },
          "execution_count": 34
        },
        {
          "output_type": "display_data",
          "data": {
            "image/png": "[encoded data removed]",
            "text/plain": [
              "<Figure size 842.4x595.44 with 1 Axes>"
            ]
          },
          "metadata": {
            "tags": []
          }
        }
      ]
    },
    {
      "cell_type": "markdown",
      "metadata": {
        "id": "NrO7t240RrLC",
        "colab_type": "text"
      },
      "source": [
        "Work On Polisot df"
      ]
    },
    {
      "cell_type": "code",
      "metadata": {
        "id": "V8R0MGUXRqL3",
        "colab_type": "code",
        "outputId": "4bf434e4-170f-485f-d5e9-ca9d5676aab2",
        "colab": {
          "base_uri": "https://localhost:8080/",
          "height": 561
        }
      },
      "source": [
        "#plot 9:\n",
        "Polisot['Rechecv_Companny'].value_counts().plot(kind='bar')\n",
        "plt.title('Rechecv_Companny Distribution', weight='bold', fontsize=16)"
      ],
      "execution_count": 0,
      "outputs": [
        {
          "output_type": "execute_result",
          "data": {
            "text/plain": [
              "Text(0.5, 1.0, 'Rechecv_Companny Distribution')"
            ]
          },
          "metadata": {
            "tags": []
          },
          "execution_count": 35
        },
        {
          "output_type": "display_data",
          "data": {
            "image/png": "[encoded data removed]",
            "text/plain": [
              "<Figure size 842.4x595.44 with 1 Axes>"
            ]
          },
          "metadata": {
            "tags": []
          }
        }
      ]
    },
    {
      "cell_type": "code",
      "metadata": {
        "id": "VhUFrqrNRqT5",
        "colab_type": "code",
        "outputId": "d2247250-5edf-4eae-9ac4-e9d06d275fa9",
        "colab": {
          "base_uri": "https://localhost:8080/",
          "height": 553
        }
      },
      "source": [
        "#plot 10:\n",
        "Polisot['Manufacture_Year'].value_counts().plot(kind='bar')\n",
        "plt.title('Manufacture_Year Distribution', weight='bold', fontsize=16)"
      ],
      "execution_count": 0,
      "outputs": [
        {
          "output_type": "execute_result",
          "data": {
            "text/plain": [
              "Text(0.5, 1.0, 'Manufacture_Year Distribution')"
            ]
          },
          "metadata": {
            "tags": []
          },
          "execution_count": 36
        },
        {
          "output_type": "display_data",
          "data": {
            "image/png": "[encoded data removed]",
            "text/plain": [
              "<Figure size 842.4x595.44 with 1 Axes>"
            ]
          },
          "metadata": {
            "tags": []
          }
        }
      ]
    },
    {
      "cell_type": "code",
      "metadata": {
        "id": "ySjKiDE6RqaH",
        "colab_type": "code",
        "outputId": "15b3024c-7f07-414b-f9a4-b15b46e2bd83",
        "colab": {
          "base_uri": "https://localhost:8080/",
          "height": 204
        }
      },
      "source": [
        "#remove rows with 0 on year\n",
        "Polisot = Polisot[Polisot.Manufacture_Year != 0]\n",
        "Polisot.info()"
      ],
      "execution_count": 0,
      "outputs": [
        {
          "output_type": "stream",
          "text": [
            "<class 'pandas.core.frame.DataFrame'>\n",
            "Int64Index: 3433 entries, 1 to 4000\n",
            "Data columns (total 6 columns):\n",
            "Keypls              3433 non-null int64\n",
            "Rishuy_number       3433 non-null int64\n",
            "Rechecv_Companny    3433 non-null category\n",
            "Manufacture_Year    3433 non-null int64\n",
            "Start_date          3433 non-null datetime64[ns]\n",
            "End_date            3433 non-null datetime64[ns]\n",
            "dtypes: category(1), datetime64[ns](2), int64(3)\n",
            "memory usage: 164.5 KB\n"
          ],
          "name": "stdout"
        }
      ]
    },
    {
      "cell_type": "code",
      "metadata": {
        "id": "x5s01QirVVge",
        "colab_type": "code",
        "colab": {}
      },
      "source": [
        "#Encode Rechecv_Companny    \n",
        "Polisot['Rechecv_Companny'] = Polisot['Rechecv_Companny'].astype('category')\n",
        "Polisot['Rechecv_Companny'] = Polisot['Rechecv_Companny'].cat.codes\n",
        "\n",
        "#Encode Year\n",
        "Polisot['Manufacture_Year'] = Polisot['Manufacture_Year']-2000\n",
        "\n",
        "#create new feature\n",
        "Polisot['Company*year'] = Polisot.Manufacture_Year * Polisot.Rechecv_Companny\n",
        "\n",
        "#create Time feature\n",
        "Polisot['Time']=Polisot['End_date']-Polisot['Start_date']\n",
        "\n"
      ],
      "execution_count": 0,
      "outputs": []
    },
    {
      "cell_type": "code",
      "metadata": {
        "id": "bEOrwZQwY_iL",
        "colab_type": "code",
        "colab": {}
      },
      "source": [
        "#Convert Date Time:\n",
        "Polisot['Start_Year'] = Polisot['Start_date'].dt.year\n",
        "Polisot['Start_Month'] = Polisot['Start_date'].dt.month\n",
        "Polisot['Start_Day'] = Polisot['Start_date'].dt.day\n",
        "Polisot['End_Year'] = Polisot['End_date'].dt.year\n",
        "Polisot['End_Month'] = Polisot['End_date'].dt.month\n",
        "Polisot['End_Day'] = Polisot['End_date'].dt.day\n",
        "\n",
        "#drop old columns\n",
        "Polisot=Polisot.drop(['Start_date'], axis=1)\n",
        "Polisot=Polisot.drop(['End_date'], axis=1)\n",
        "  "
      ],
      "execution_count": 0,
      "outputs": []
    },
    {
      "cell_type": "code",
      "metadata": {
        "id": "aOi-es2nVxEY",
        "colab_type": "code",
        "outputId": "f68a3abb-1b71-4099-9ef4-cf248e2db7f0",
        "colab": {
          "base_uri": "https://localhost:8080/",
          "height": 309
        }
      },
      "source": [
        "Polisot.head(5)"
      ],
      "execution_count": 0,
      "outputs": [
        {
          "output_type": "execute_result",
          "data": {
            "text/html": [
              "<div>\n",
              "<style scoped>\n",
              "    .dataframe tbody tr th:only-of-type {\n",
              "        vertical-align: middle;\n",
              "    }\n",
              "\n",
              "    .dataframe tbody tr th {\n",
              "        vertical-align: top;\n",
              "    }\n",
              "\n",
              "    .dataframe thead th {\n",
              "        text-align: right;\n",
              "    }\n",
              "</style>\n",
              "<table border=\"1\" class=\"dataframe\">\n",
              "  <thead>\n",
              "    <tr style=\"text-align: right;\">\n",
              "      <th></th>\n",
              "      <th>Keypls</th>\n",
              "      <th>Rishuy_number</th>\n",
              "      <th>Rechecv_Companny</th>\n",
              "      <th>Manufacture_Year</th>\n",
              "      <th>Company*year</th>\n",
              "      <th>Time</th>\n",
              "      <th>Start_Year</th>\n",
              "      <th>Start_Month</th>\n",
              "      <th>Start_Day</th>\n",
              "      <th>End_Year</th>\n",
              "      <th>End_Month</th>\n",
              "      <th>End_Day</th>\n",
              "    </tr>\n",
              "  </thead>\n",
              "  <tbody>\n",
              "    <tr>\n",
              "      <th>1</th>\n",
              "      <td>1001</td>\n",
              "      <td>73002501</td>\n",
              "      <td>1</td>\n",
              "      <td>6</td>\n",
              "      <td>6</td>\n",
              "      <td>365 days</td>\n",
              "      <td>2016</td>\n",
              "      <td>4</td>\n",
              "      <td>8</td>\n",
              "      <td>2017</td>\n",
              "      <td>4</td>\n",
              "      <td>8</td>\n",
              "    </tr>\n",
              "    <tr>\n",
              "      <th>2</th>\n",
              "      <td>1002</td>\n",
              "      <td>73002502</td>\n",
              "      <td>3</td>\n",
              "      <td>0</td>\n",
              "      <td>0</td>\n",
              "      <td>365 days</td>\n",
              "      <td>2016</td>\n",
              "      <td>11</td>\n",
              "      <td>11</td>\n",
              "      <td>2017</td>\n",
              "      <td>11</td>\n",
              "      <td>11</td>\n",
              "    </tr>\n",
              "    <tr>\n",
              "      <th>3</th>\n",
              "      <td>1003</td>\n",
              "      <td>73002503</td>\n",
              "      <td>3</td>\n",
              "      <td>10</td>\n",
              "      <td>30</td>\n",
              "      <td>365 days</td>\n",
              "      <td>2016</td>\n",
              "      <td>4</td>\n",
              "      <td>8</td>\n",
              "      <td>2017</td>\n",
              "      <td>4</td>\n",
              "      <td>8</td>\n",
              "    </tr>\n",
              "    <tr>\n",
              "      <th>4</th>\n",
              "      <td>1004</td>\n",
              "      <td>73002504</td>\n",
              "      <td>1</td>\n",
              "      <td>8</td>\n",
              "      <td>8</td>\n",
              "      <td>365 days</td>\n",
              "      <td>2016</td>\n",
              "      <td>1</td>\n",
              "      <td>1</td>\n",
              "      <td>2016</td>\n",
              "      <td>12</td>\n",
              "      <td>31</td>\n",
              "    </tr>\n",
              "    <tr>\n",
              "      <th>5</th>\n",
              "      <td>1005</td>\n",
              "      <td>73002505</td>\n",
              "      <td>3</td>\n",
              "      <td>6</td>\n",
              "      <td>18</td>\n",
              "      <td>243 days</td>\n",
              "      <td>2016</td>\n",
              "      <td>1</td>\n",
              "      <td>1</td>\n",
              "      <td>2016</td>\n",
              "      <td>8</td>\n",
              "      <td>31</td>\n",
              "    </tr>\n",
              "  </tbody>\n",
              "</table>\n",
              "</div>"
            ],
            "text/plain": [
              "   Keypls  Rishuy_number  Rechecv_Companny  ...  End_Year  End_Month End_Day\n",
              "1    1001       73002501                 1  ...      2017          4       8\n",
              "2    1002       73002502                 3  ...      2017         11      11\n",
              "3    1003       73002503                 3  ...      2017          4       8\n",
              "4    1004       73002504                 1  ...      2016         12      31\n",
              "5    1005       73002505                 3  ...      2016          8      31\n",
              "\n",
              "[5 rows x 12 columns]"
            ]
          },
          "metadata": {
            "tags": []
          },
          "execution_count": 40
        }
      ]
    },
    {
      "cell_type": "markdown",
      "metadata": {
        "id": "q-khrTvlZd2s",
        "colab_type": "text"
      },
      "source": [
        "Lets do some SQL"
      ]
    },
    {
      "cell_type": "code",
      "metadata": {
        "id": "O6A7ocz5d9yE",
        "colab_type": "code",
        "outputId": "c3be33f9-07df-434f-fdb7-4fcc488a02dd",
        "colab": {
          "base_uri": "https://localhost:8080/",
          "height": 309
        }
      },
      "source": [
        "#inner join with cust.+Polisot\n",
        "merged_data = pd.merge(Customers, Polisot, on='Keypls')\n",
        "merged_data.head(5)"
      ],
      "execution_count": 0,
      "outputs": [
        {
          "output_type": "execute_result",
          "data": {
            "text/html": [
              "<div>\n",
              "<style scoped>\n",
              "    .dataframe tbody tr th:only-of-type {\n",
              "        vertical-align: middle;\n",
              "    }\n",
              "\n",
              "    .dataframe tbody tr th {\n",
              "        vertical-align: top;\n",
              "    }\n",
              "\n",
              "    .dataframe thead th {\n",
              "        text-align: right;\n",
              "    }\n",
              "</style>\n",
              "<table border=\"1\" class=\"dataframe\">\n",
              "  <thead>\n",
              "    <tr style=\"text-align: right;\">\n",
              "      <th></th>\n",
              "      <th>ID</th>\n",
              "      <th>Age</th>\n",
              "      <th>Gender</th>\n",
              "      <th>City</th>\n",
              "      <th>Keypls</th>\n",
              "      <th>Meshlem_polisa_IND</th>\n",
              "      <th>Rishuy_number</th>\n",
              "      <th>Rechecv_Companny</th>\n",
              "      <th>Manufacture_Year</th>\n",
              "      <th>Company*year</th>\n",
              "      <th>Time</th>\n",
              "      <th>Start_Year</th>\n",
              "      <th>Start_Month</th>\n",
              "      <th>Start_Day</th>\n",
              "      <th>End_Year</th>\n",
              "      <th>End_Month</th>\n",
              "      <th>End_Day</th>\n",
              "    </tr>\n",
              "  </thead>\n",
              "  <tbody>\n",
              "    <tr>\n",
              "      <th>0</th>\n",
              "      <td>300600900</td>\n",
              "      <td>39</td>\n",
              "      <td>0</td>\n",
              "      <td>4</td>\n",
              "      <td>2198</td>\n",
              "      <td>0</td>\n",
              "      <td>73003698</td>\n",
              "      <td>3</td>\n",
              "      <td>8</td>\n",
              "      <td>24</td>\n",
              "      <td>365 days</td>\n",
              "      <td>2016</td>\n",
              "      <td>1</td>\n",
              "      <td>1</td>\n",
              "      <td>2016</td>\n",
              "      <td>12</td>\n",
              "      <td>31</td>\n",
              "    </tr>\n",
              "    <tr>\n",
              "      <th>1</th>\n",
              "      <td>300602108</td>\n",
              "      <td>22</td>\n",
              "      <td>0</td>\n",
              "      <td>4</td>\n",
              "      <td>2198</td>\n",
              "      <td>0</td>\n",
              "      <td>73003698</td>\n",
              "      <td>3</td>\n",
              "      <td>8</td>\n",
              "      <td>24</td>\n",
              "      <td>365 days</td>\n",
              "      <td>2016</td>\n",
              "      <td>1</td>\n",
              "      <td>1</td>\n",
              "      <td>2016</td>\n",
              "      <td>12</td>\n",
              "      <td>31</td>\n",
              "    </tr>\n",
              "    <tr>\n",
              "      <th>2</th>\n",
              "      <td>300603996</td>\n",
              "      <td>31</td>\n",
              "      <td>1</td>\n",
              "      <td>4</td>\n",
              "      <td>2198</td>\n",
              "      <td>0</td>\n",
              "      <td>73003698</td>\n",
              "      <td>3</td>\n",
              "      <td>8</td>\n",
              "      <td>24</td>\n",
              "      <td>365 days</td>\n",
              "      <td>2016</td>\n",
              "      <td>1</td>\n",
              "      <td>1</td>\n",
              "      <td>2016</td>\n",
              "      <td>12</td>\n",
              "      <td>31</td>\n",
              "    </tr>\n",
              "    <tr>\n",
              "      <th>3</th>\n",
              "      <td>300606163</td>\n",
              "      <td>19</td>\n",
              "      <td>1</td>\n",
              "      <td>4</td>\n",
              "      <td>2198</td>\n",
              "      <td>1</td>\n",
              "      <td>73003698</td>\n",
              "      <td>3</td>\n",
              "      <td>8</td>\n",
              "      <td>24</td>\n",
              "      <td>365 days</td>\n",
              "      <td>2016</td>\n",
              "      <td>1</td>\n",
              "      <td>1</td>\n",
              "      <td>2016</td>\n",
              "      <td>12</td>\n",
              "      <td>31</td>\n",
              "    </tr>\n",
              "    <tr>\n",
              "      <th>4</th>\n",
              "      <td>300600901</td>\n",
              "      <td>44</td>\n",
              "      <td>0</td>\n",
              "      <td>3</td>\n",
              "      <td>1152</td>\n",
              "      <td>0</td>\n",
              "      <td>73002652</td>\n",
              "      <td>2</td>\n",
              "      <td>3</td>\n",
              "      <td>6</td>\n",
              "      <td>365 days</td>\n",
              "      <td>2016</td>\n",
              "      <td>4</td>\n",
              "      <td>8</td>\n",
              "      <td>2017</td>\n",
              "      <td>4</td>\n",
              "      <td>8</td>\n",
              "    </tr>\n",
              "  </tbody>\n",
              "</table>\n",
              "</div>"
            ],
            "text/plain": [
              "          ID  Age  Gender  City  ...  Start_Day End_Year  End_Month  End_Day\n",
              "0  300600900   39       0     4  ...          1     2016         12       31\n",
              "1  300602108   22       0     4  ...          1     2016         12       31\n",
              "2  300603996   31       1     4  ...          1     2016         12       31\n",
              "3  300606163   19       1     4  ...          1     2016         12       31\n",
              "4  300600901   44       0     3  ...          8     2017          4        8\n",
              "\n",
              "[5 rows x 17 columns]"
            ]
          },
          "metadata": {
            "tags": []
          },
          "execution_count": 42
        }
      ]
    },
    {
      "cell_type": "code",
      "metadata": {
        "id": "enFujV7Te7R9",
        "colab_type": "code",
        "colab": {}
      },
      "source": [
        "#left join with Tviot\n",
        "full_data = pd.merge(merged_data, Tviot, on='Keypls', how='left')"
      ],
      "execution_count": 0,
      "outputs": []
    },
    {
      "cell_type": "code",
      "metadata": {
        "id": "R3ABsv-8fL9E",
        "colab_type": "code",
        "colab": {}
      },
      "source": [
        "#convert NA to 0\n",
        "full_data['has_Tvia'].fillna(0, inplace=True)"
      ],
      "execution_count": 0,
      "outputs": []
    },
    {
      "cell_type": "code",
      "metadata": {
        "id": "B0FAhEMcf1yt",
        "colab_type": "code",
        "outputId": "bed5733f-dd98-4392-b2b9-a8bf13d978b5",
        "colab": {
          "base_uri": "https://localhost:8080/",
          "height": 524
        }
      },
      "source": [
        "#Tviot Visualiztion\n",
        "full_data['has_Tvia'].value_counts().plot(kind='bar')\n",
        "plt.title('Tvia by ploicies', weight='bold', fontsize=16)"
      ],
      "execution_count": 0,
      "outputs": [
        {
          "output_type": "execute_result",
          "data": {
            "text/plain": [
              "<matplotlib.axes._subplots.AxesSubplot at 0x7fd894a0f550>"
            ]
          },
          "metadata": {
            "tags": []
          },
          "execution_count": 56
        },
        {
          "output_type": "display_data",
          "data": {
            "image/png": "[encoded data removed]",
            "text/plain": [
              "<Figure size 842.4x595.44 with 1 Axes>"
            ]
          },
          "metadata": {
            "tags": []
          }
        }
      ]
    },
    {
      "cell_type": "code",
      "metadata": {
        "id": "IvzryCgduJDe",
        "colab_type": "code",
        "outputId": "3515abfb-698f-4acc-9fb1-a3d152b4ca8c",
        "colab": {
          "base_uri": "https://localhost:8080/",
          "height": 261
        }
      },
      "source": [
        "#remove unsed cols\n",
        "full_data=full_data.drop(['Tvia_date', 'Tvia_number'], axis=1)\n",
        "full_data=full_data.drop(['ID', 'Rishuy_number','Keypls'], axis=1)\n",
        "\n",
        "full_data.head(4)"
      ],
      "execution_count": 0,
      "outputs": [
        {
          "output_type": "execute_result",
          "data": {
            "text/html": [
              "<div>\n",
              "<style scoped>\n",
              "    .dataframe tbody tr th:only-of-type {\n",
              "        vertical-align: middle;\n",
              "    }\n",
              "\n",
              "    .dataframe tbody tr th {\n",
              "        vertical-align: top;\n",
              "    }\n",
              "\n",
              "    .dataframe thead th {\n",
              "        text-align: right;\n",
              "    }\n",
              "</style>\n",
              "<table border=\"1\" class=\"dataframe\">\n",
              "  <thead>\n",
              "    <tr style=\"text-align: right;\">\n",
              "      <th></th>\n",
              "      <th>ID</th>\n",
              "      <th>Age</th>\n",
              "      <th>Gender</th>\n",
              "      <th>City</th>\n",
              "      <th>Keypls</th>\n",
              "      <th>Meshlem_polisa_IND</th>\n",
              "      <th>Rishuy_number</th>\n",
              "      <th>Rechecv_Companny</th>\n",
              "      <th>Manufacture_Year</th>\n",
              "      <th>Company*year</th>\n",
              "      <th>Time</th>\n",
              "      <th>Start_Year</th>\n",
              "      <th>Start_Month</th>\n",
              "      <th>Start_Day</th>\n",
              "      <th>End_Year</th>\n",
              "      <th>End_Month</th>\n",
              "      <th>End_Day</th>\n",
              "      <th>has_Tvia</th>\n",
              "    </tr>\n",
              "  </thead>\n",
              "  <tbody>\n",
              "    <tr>\n",
              "      <th>0</th>\n",
              "      <td>300600900</td>\n",
              "      <td>39</td>\n",
              "      <td>0</td>\n",
              "      <td>4</td>\n",
              "      <td>2198</td>\n",
              "      <td>0</td>\n",
              "      <td>73003698</td>\n",
              "      <td>3</td>\n",
              "      <td>8</td>\n",
              "      <td>24</td>\n",
              "      <td>365 days</td>\n",
              "      <td>2016</td>\n",
              "      <td>1</td>\n",
              "      <td>1</td>\n",
              "      <td>2016</td>\n",
              "      <td>12</td>\n",
              "      <td>31</td>\n",
              "      <td>1.0</td>\n",
              "    </tr>\n",
              "    <tr>\n",
              "      <th>1</th>\n",
              "      <td>300602108</td>\n",
              "      <td>22</td>\n",
              "      <td>0</td>\n",
              "      <td>4</td>\n",
              "      <td>2198</td>\n",
              "      <td>0</td>\n",
              "      <td>73003698</td>\n",
              "      <td>3</td>\n",
              "      <td>8</td>\n",
              "      <td>24</td>\n",
              "      <td>365 days</td>\n",
              "      <td>2016</td>\n",
              "      <td>1</td>\n",
              "      <td>1</td>\n",
              "      <td>2016</td>\n",
              "      <td>12</td>\n",
              "      <td>31</td>\n",
              "      <td>1.0</td>\n",
              "    </tr>\n",
              "    <tr>\n",
              "      <th>2</th>\n",
              "      <td>300603996</td>\n",
              "      <td>31</td>\n",
              "      <td>1</td>\n",
              "      <td>4</td>\n",
              "      <td>2198</td>\n",
              "      <td>0</td>\n",
              "      <td>73003698</td>\n",
              "      <td>3</td>\n",
              "      <td>8</td>\n",
              "      <td>24</td>\n",
              "      <td>365 days</td>\n",
              "      <td>2016</td>\n",
              "      <td>1</td>\n",
              "      <td>1</td>\n",
              "      <td>2016</td>\n",
              "      <td>12</td>\n",
              "      <td>31</td>\n",
              "      <td>1.0</td>\n",
              "    </tr>\n",
              "    <tr>\n",
              "      <th>3</th>\n",
              "      <td>300606163</td>\n",
              "      <td>19</td>\n",
              "      <td>1</td>\n",
              "      <td>4</td>\n",
              "      <td>2198</td>\n",
              "      <td>1</td>\n",
              "      <td>73003698</td>\n",
              "      <td>3</td>\n",
              "      <td>8</td>\n",
              "      <td>24</td>\n",
              "      <td>365 days</td>\n",
              "      <td>2016</td>\n",
              "      <td>1</td>\n",
              "      <td>1</td>\n",
              "      <td>2016</td>\n",
              "      <td>12</td>\n",
              "      <td>31</td>\n",
              "      <td>1.0</td>\n",
              "    </tr>\n",
              "  </tbody>\n",
              "</table>\n",
              "</div>"
            ],
            "text/plain": [
              "          ID  Age  Gender  City  ...  End_Year End_Month  End_Day  has_Tvia\n",
              "0  300600900   39       0     4  ...      2016        12       31       1.0\n",
              "1  300602108   22       0     4  ...      2016        12       31       1.0\n",
              "2  300603996   31       1     4  ...      2016        12       31       1.0\n",
              "3  300606163   19       1     4  ...      2016        12       31       1.0\n",
              "\n",
              "[4 rows x 18 columns]"
            ]
          },
          "metadata": {
            "tags": []
          },
          "execution_count": 60
        }
      ]
    },
    {
      "cell_type": "code",
      "metadata": {
        "id": "rSWw8tYGxe_n",
        "colab_type": "code",
        "outputId": "bfcd9e9f-3172-41c1-f534-d405cd516627",
        "colab": {
          "base_uri": "https://localhost:8080/",
          "height": 224
        }
      },
      "source": [
        "#create feature of Vetek for customers\n",
        "\n",
        "full_data['Time'] = full_data['Time'].astype('int64')\n",
        "\n",
        "full_data['Vetek'] = 0\n",
        "full_data.loc[full_data['Time'] > 364, 'Vetek'] = 1 \n",
        "full_data=full_data.drop(['Time'], axis=1)\n",
        "\n",
        "full_data.head(5)"
      ],
      "execution_count": 0,
      "outputs": [
        {
          "output_type": "execute_result",
          "data": {
            "text/html": [
              "<div>\n",
              "<style scoped>\n",
              "    .dataframe tbody tr th:only-of-type {\n",
              "        vertical-align: middle;\n",
              "    }\n",
              "\n",
              "    .dataframe tbody tr th {\n",
              "        vertical-align: top;\n",
              "    }\n",
              "\n",
              "    .dataframe thead th {\n",
              "        text-align: right;\n",
              "    }\n",
              "</style>\n",
              "<table border=\"1\" class=\"dataframe\">\n",
              "  <thead>\n",
              "    <tr style=\"text-align: right;\">\n",
              "      <th></th>\n",
              "      <th>Age</th>\n",
              "      <th>Gender</th>\n",
              "      <th>City</th>\n",
              "      <th>Meshlem_polisa_IND</th>\n",
              "      <th>Rechecv_Companny</th>\n",
              "      <th>Manufacture_Year</th>\n",
              "      <th>Company*year</th>\n",
              "      <th>Start_Year</th>\n",
              "      <th>Start_Month</th>\n",
              "      <th>Start_Day</th>\n",
              "      <th>End_Year</th>\n",
              "      <th>End_Month</th>\n",
              "      <th>End_Day</th>\n",
              "      <th>has_Tvia</th>\n",
              "      <th>Vetek</th>\n",
              "    </tr>\n",
              "  </thead>\n",
              "  <tbody>\n",
              "    <tr>\n",
              "      <th>0</th>\n",
              "      <td>39</td>\n",
              "      <td>0</td>\n",
              "      <td>4</td>\n",
              "      <td>0</td>\n",
              "      <td>3</td>\n",
              "      <td>8</td>\n",
              "      <td>24</td>\n",
              "      <td>2016</td>\n",
              "      <td>1</td>\n",
              "      <td>1</td>\n",
              "      <td>2016</td>\n",
              "      <td>12</td>\n",
              "      <td>31</td>\n",
              "      <td>1.0</td>\n",
              "      <td>1</td>\n",
              "    </tr>\n",
              "    <tr>\n",
              "      <th>1</th>\n",
              "      <td>22</td>\n",
              "      <td>0</td>\n",
              "      <td>4</td>\n",
              "      <td>0</td>\n",
              "      <td>3</td>\n",
              "      <td>8</td>\n",
              "      <td>24</td>\n",
              "      <td>2016</td>\n",
              "      <td>1</td>\n",
              "      <td>1</td>\n",
              "      <td>2016</td>\n",
              "      <td>12</td>\n",
              "      <td>31</td>\n",
              "      <td>1.0</td>\n",
              "      <td>1</td>\n",
              "    </tr>\n",
              "    <tr>\n",
              "      <th>2</th>\n",
              "      <td>31</td>\n",
              "      <td>1</td>\n",
              "      <td>4</td>\n",
              "      <td>0</td>\n",
              "      <td>3</td>\n",
              "      <td>8</td>\n",
              "      <td>24</td>\n",
              "      <td>2016</td>\n",
              "      <td>1</td>\n",
              "      <td>1</td>\n",
              "      <td>2016</td>\n",
              "      <td>12</td>\n",
              "      <td>31</td>\n",
              "      <td>1.0</td>\n",
              "      <td>1</td>\n",
              "    </tr>\n",
              "    <tr>\n",
              "      <th>3</th>\n",
              "      <td>19</td>\n",
              "      <td>1</td>\n",
              "      <td>4</td>\n",
              "      <td>1</td>\n",
              "      <td>3</td>\n",
              "      <td>8</td>\n",
              "      <td>24</td>\n",
              "      <td>2016</td>\n",
              "      <td>1</td>\n",
              "      <td>1</td>\n",
              "      <td>2016</td>\n",
              "      <td>12</td>\n",
              "      <td>31</td>\n",
              "      <td>1.0</td>\n",
              "      <td>1</td>\n",
              "    </tr>\n",
              "    <tr>\n",
              "      <th>4</th>\n",
              "      <td>44</td>\n",
              "      <td>0</td>\n",
              "      <td>3</td>\n",
              "      <td>0</td>\n",
              "      <td>2</td>\n",
              "      <td>3</td>\n",
              "      <td>6</td>\n",
              "      <td>2016</td>\n",
              "      <td>4</td>\n",
              "      <td>8</td>\n",
              "      <td>2017</td>\n",
              "      <td>4</td>\n",
              "      <td>8</td>\n",
              "      <td>0.0</td>\n",
              "      <td>1</td>\n",
              "    </tr>\n",
              "  </tbody>\n",
              "</table>\n",
              "</div>"
            ],
            "text/plain": [
              "   Age  Gender  City Meshlem_polisa_IND  ...  End_Month  End_Day  has_Tvia  Vetek\n",
              "0   39       0     4                  0  ...         12       31       1.0      1\n",
              "1   22       0     4                  0  ...         12       31       1.0      1\n",
              "2   31       1     4                  0  ...         12       31       1.0      1\n",
              "3   19       1     4                  1  ...         12       31       1.0      1\n",
              "4   44       0     3                  0  ...          4        8       0.0      1\n",
              "\n",
              "[5 rows x 15 columns]"
            ]
          },
          "metadata": {
            "tags": []
          },
          "execution_count": 77
        }
      ]
    },
    {
      "cell_type": "markdown",
      "metadata": {
        "id": "59vMF6zl2KB5",
        "colab_type": "text"
      },
      "source": [
        "Modeling and Evaluation"
      ]
    },
    {
      "cell_type": "code",
      "metadata": {
        "id": "4EF0ZZBLrumB",
        "colab_type": "code",
        "outputId": "bbe87d05-9e70-440b-87ee-21e2c494368f",
        "colab": {
          "base_uri": "https://localhost:8080/",
          "height": 34
        }
      },
      "source": [
        "#split to train test data\n",
        "from sklearn.model_selection import train_test_split\n",
        "X = full_data.drop(\"has_Tvia\", axis=1)\n",
        "Y = full_data[\"has_Tvia\"]\n",
        "X_train, X_test, y_train, y_test = train_test_split(X, Y, test_size=0.3, random_state=25)\n",
        "\n",
        "X_train.shape, y_train.shape, X_test.shape"
      ],
      "execution_count": 0,
      "outputs": [
        {
          "output_type": "execute_result",
          "data": {
            "text/plain": [
              "((4806, 14), (4806,), (2060, 14))"
            ]
          },
          "metadata": {
            "tags": []
          },
          "execution_count": 78
        }
      ]
    },
    {
      "cell_type": "code",
      "metadata": {
        "id": "14igYU5twRYe",
        "colab_type": "code",
        "outputId": "f15e2ea2-c223-466c-d930-ca6ae1bafe34",
        "colab": {
          "base_uri": "https://localhost:8080/",
          "height": 524
        }
      },
      "source": [
        "#lets look about the split-Y train\n",
        "y_train.value_counts().plot(kind='bar')"
      ],
      "execution_count": 0,
      "outputs": [
        {
          "output_type": "execute_result",
          "data": {
            "text/plain": [
              "<matplotlib.axes._subplots.AxesSubplot at 0x7fd892707390>"
            ]
          },
          "metadata": {
            "tags": []
          },
          "execution_count": 68
        },
        {
          "output_type": "display_data",
          "data": {
            "image/png": "[encoded data removed]",
            "text/plain": [
              "<Figure size 842.4x595.44 with 1 Axes>"
            ]
          },
          "metadata": {
            "tags": []
          }
        }
      ]
    },
    {
      "cell_type": "code",
      "metadata": {
        "id": "GY2W8sbov6dR",
        "colab_type": "code",
        "outputId": "3efe2cf0-14bf-4dfb-da62-5280ebf6b6dd",
        "colab": {
          "base_uri": "https://localhost:8080/",
          "height": 524
        }
      },
      "source": [
        "#lets look about the split-Y test\n",
        "y_test.value_counts().plot(kind='bar')"
      ],
      "execution_count": 0,
      "outputs": [
        {
          "output_type": "execute_result",
          "data": {
            "text/plain": [
              "<matplotlib.axes._subplots.AxesSubplot at 0x7fd898804be0>"
            ]
          },
          "metadata": {
            "tags": []
          },
          "execution_count": 67
        },
        {
          "output_type": "display_data",
          "data": {
            "image/png": "[encoded data removed]",
            "text/plain": [
              "<Figure size 842.4x595.44 with 1 Axes>"
            ]
          },
          "metadata": {
            "tags": []
          }
        }
      ]
    },
    {
      "cell_type": "markdown",
      "metadata": {
        "id": "pdJh_lgHwsr-",
        "colab_type": "text"
      },
      "source": [
        "Modeling- our y is binary, so we need to use algoritmes that knows how to handle with binary classification"
      ]
    },
    {
      "cell_type": "code",
      "metadata": {
        "id": "Gm_g14UwxBLK",
        "colab_type": "code",
        "colab": {}
      },
      "source": [
        "# machine learning\n",
        "from sklearn.linear_model import LogisticRegression\n",
        "from sklearn.svm import SVC, LinearSVC\n",
        "from sklearn.ensemble import RandomForestClassifier\n",
        "from sklearn.neighbors import KNeighborsClassifier\n",
        "from sklearn.naive_bayes import GaussianNB\n",
        "from sklearn.linear_model import Perceptron\n",
        "from sklearn.linear_model import SGDClassifier\n",
        "from sklearn.tree import DecisionTreeClassifier"
      ],
      "execution_count": 0,
      "outputs": []
    },
    {
      "cell_type": "code",
      "metadata": {
        "id": "JMSawvOYzCVw",
        "colab_type": "code",
        "outputId": "b6721d3c-4d76-46ee-c76e-c52866d057bf",
        "colab": {
          "base_uri": "https://localhost:8080/",
          "height": 34
        }
      },
      "source": [
        "# Gaussian Naive Bayes\n",
        "\n",
        "gaussian = GaussianNB()\n",
        "gaussian.fit(X_train, y_train)\n",
        "Y_pred = gaussian.predict(X_test)\n",
        "acc_gaussian = round(gaussian.score(X_train, y_train) * 100, 2)\n",
        "acc_gaussian"
      ],
      "execution_count": 0,
      "outputs": [
        {
          "output_type": "execute_result",
          "data": {
            "text/plain": [
              "82.27"
            ]
          },
          "metadata": {
            "tags": []
          },
          "execution_count": 83
        }
      ]
    },
    {
      "cell_type": "code",
      "metadata": {
        "id": "4fZe9yjCwdTO",
        "colab_type": "code",
        "outputId": "089827cc-ac37-403c-f06f-128e9111441b",
        "colab": {
          "base_uri": "https://localhost:8080/",
          "height": 88
        }
      },
      "source": [
        "# Logistic Regression\n",
        "\n",
        "logreg = LogisticRegression()\n",
        "logreg.fit(X_train, y_train)\n",
        "Y_pred = logreg.predict(X_test)\n",
        "acc_log = round(logreg.score(X_train, y_train) * 100, 2)\n",
        "acc_log"
      ],
      "execution_count": 0,
      "outputs": [
        {
          "output_type": "stream",
          "text": [
            "/usr/local/lib/python3.6/dist-packages/sklearn/linear_model/logistic.py:432: FutureWarning: Default solver will be changed to 'lbfgs' in 0.22. Specify a solver to silence this warning.\n",
            "  FutureWarning)\n"
          ],
          "name": "stderr"
        },
        {
          "output_type": "execute_result",
          "data": {
            "text/plain": [
              "82.29"
            ]
          },
          "metadata": {
            "tags": []
          },
          "execution_count": 79
        }
      ]
    },
    {
      "cell_type": "code",
      "metadata": {
        "id": "y6P7iHenyc7t",
        "colab_type": "code",
        "outputId": "9fe9b133-3fed-4813-ae3c-13445beac1d0",
        "colab": {
          "base_uri": "https://localhost:8080/",
          "height": 483
        }
      },
      "source": [
        "#lets look at the coeff\n",
        "coeff_df = pd.DataFrame(full_data.columns.delete(0))\n",
        "coeff_df.columns = ['Feature']\n",
        "coeff_df[\"Correlation\"] = pd.Series(logreg.coef_[0])\n",
        "\n",
        "coeff_df.sort_values(by='Correlation', ascending=False)"
      ],
      "execution_count": 0,
      "outputs": [
        {
          "output_type": "execute_result",
          "data": {
            "text/html": [
              "<div>\n",
              "<style scoped>\n",
              "    .dataframe tbody tr th:only-of-type {\n",
              "        vertical-align: middle;\n",
              "    }\n",
              "\n",
              "    .dataframe tbody tr th {\n",
              "        vertical-align: top;\n",
              "    }\n",
              "\n",
              "    .dataframe thead th {\n",
              "        text-align: right;\n",
              "    }\n",
              "</style>\n",
              "<table border=\"1\" class=\"dataframe\">\n",
              "  <thead>\n",
              "    <tr style=\"text-align: right;\">\n",
              "      <th></th>\n",
              "      <th>Feature</th>\n",
              "      <th>Correlation</th>\n",
              "    </tr>\n",
              "  </thead>\n",
              "  <tbody>\n",
              "    <tr>\n",
              "      <th>8</th>\n",
              "      <td>Start_Day</td>\n",
              "      <td>3.631123e-02</td>\n",
              "    </tr>\n",
              "    <tr>\n",
              "      <th>7</th>\n",
              "      <td>Start_Month</td>\n",
              "      <td>1.742094e-03</td>\n",
              "    </tr>\n",
              "    <tr>\n",
              "      <th>12</th>\n",
              "      <td>has_Tvia</td>\n",
              "      <td>1.195275e-03</td>\n",
              "    </tr>\n",
              "    <tr>\n",
              "      <th>13</th>\n",
              "      <td>Vetek</td>\n",
              "      <td>8.641341e-07</td>\n",
              "    </tr>\n",
              "    <tr>\n",
              "      <th>10</th>\n",
              "      <td>End_Month</td>\n",
              "      <td>-1.972024e-03</td>\n",
              "    </tr>\n",
              "    <tr>\n",
              "      <th>0</th>\n",
              "      <td>Gender</td>\n",
              "      <td>-7.450900e-03</td>\n",
              "    </tr>\n",
              "    <tr>\n",
              "      <th>6</th>\n",
              "      <td>Start_Year</td>\n",
              "      <td>-9.528752e-03</td>\n",
              "    </tr>\n",
              "    <tr>\n",
              "      <th>11</th>\n",
              "      <td>End_Day</td>\n",
              "      <td>-9.575973e-03</td>\n",
              "    </tr>\n",
              "    <tr>\n",
              "      <th>1</th>\n",
              "      <td>City</td>\n",
              "      <td>-9.984194e-03</td>\n",
              "    </tr>\n",
              "    <tr>\n",
              "      <th>9</th>\n",
              "      <td>End_Year</td>\n",
              "      <td>-2.568104e-02</td>\n",
              "    </tr>\n",
              "    <tr>\n",
              "      <th>2</th>\n",
              "      <td>Meshlem_polisa_IND</td>\n",
              "      <td>-2.842268e-02</td>\n",
              "    </tr>\n",
              "    <tr>\n",
              "      <th>3</th>\n",
              "      <td>Rechecv_Companny</td>\n",
              "      <td>-3.386034e-02</td>\n",
              "    </tr>\n",
              "    <tr>\n",
              "      <th>4</th>\n",
              "      <td>Manufacture_Year</td>\n",
              "      <td>-4.417114e-02</td>\n",
              "    </tr>\n",
              "    <tr>\n",
              "      <th>5</th>\n",
              "      <td>Company*year</td>\n",
              "      <td>-5.840644e-02</td>\n",
              "    </tr>\n",
              "  </tbody>\n",
              "</table>\n",
              "</div>"
            ],
            "text/plain": [
              "               Feature   Correlation\n",
              "8            Start_Day  3.631123e-02\n",
              "7          Start_Month  1.742094e-03\n",
              "12            has_Tvia  1.195275e-03\n",
              "13               Vetek  8.641341e-07\n",
              "10           End_Month -1.972024e-03\n",
              "0               Gender -7.450900e-03\n",
              "6           Start_Year -9.528752e-03\n",
              "11             End_Day -9.575973e-03\n",
              "1                 City -9.984194e-03\n",
              "9             End_Year -2.568104e-02\n",
              "2   Meshlem_polisa_IND -2.842268e-02\n",
              "3     Rechecv_Companny -3.386034e-02\n",
              "4     Manufacture_Year -4.417114e-02\n",
              "5         Company*year -5.840644e-02"
            ]
          },
          "metadata": {
            "tags": []
          },
          "execution_count": 80
        }
      ]
    },
    {
      "cell_type": "code",
      "metadata": {
        "id": "c309NVM9yoyc",
        "colab_type": "code",
        "outputId": "9c8ba08e-222c-47ea-e05f-cab996ff2309",
        "colab": {
          "base_uri": "https://localhost:8080/",
          "height": 88
        }
      },
      "source": [
        "# Support Vector Machines\n",
        "\n",
        "svc = SVC()\n",
        "svc.fit(X_train, y_train)\n",
        "Y_pred = svc.predict(X_test)\n",
        "acc_svc = round(svc.score(X_train, y_train) * 100, 2)\n",
        "acc_svc"
      ],
      "execution_count": 0,
      "outputs": [
        {
          "output_type": "stream",
          "text": [
            "/usr/local/lib/python3.6/dist-packages/sklearn/svm/base.py:193: FutureWarning: The default value of gamma will change from 'auto' to 'scale' in version 0.22 to account better for unscaled features. Set gamma explicitly to 'auto' or 'scale' to avoid this warning.\n",
            "  \"avoid this warning.\", FutureWarning)\n"
          ],
          "name": "stderr"
        },
        {
          "output_type": "execute_result",
          "data": {
            "text/plain": [
              "89.24"
            ]
          },
          "metadata": {
            "tags": []
          },
          "execution_count": 81
        }
      ]
    },
    {
      "cell_type": "code",
      "metadata": {
        "id": "xZ3cNvmxyzsy",
        "colab_type": "code",
        "outputId": "701d407e-26d6-4a00-ae26-de74d8aa3076",
        "colab": {
          "base_uri": "https://localhost:8080/",
          "height": 34
        }
      },
      "source": [
        "#knn\n",
        "knn = KNeighborsClassifier(n_neighbors = 3)\n",
        "knn.fit(X_train, y_train)\n",
        "Y_pred = knn.predict(X_test)\n",
        "acc_knn = round(knn.score(X_train, y_train) * 100, 2)\n",
        "acc_knn"
      ],
      "execution_count": 0,
      "outputs": [
        {
          "output_type": "execute_result",
          "data": {
            "text/plain": [
              "87.64"
            ]
          },
          "metadata": {
            "tags": []
          },
          "execution_count": 82
        }
      ]
    },
    {
      "cell_type": "code",
      "metadata": {
        "id": "ily3d9lHzLVq",
        "colab_type": "code",
        "outputId": "270488a3-f173-43f0-e7ea-f7badb2776db",
        "colab": {
          "base_uri": "https://localhost:8080/",
          "height": 34
        }
      },
      "source": [
        "# Stochastic Gradient Descent\n",
        "\n",
        "sgd = SGDClassifier()\n",
        "sgd.fit(X_train, y_train)\n",
        "Y_pred = sgd.predict(X_test)\n",
        "acc_sgd = round(sgd.score(X_train, y_train) * 100, 2)\n",
        "acc_sgd"
      ],
      "execution_count": 0,
      "outputs": [
        {
          "output_type": "execute_result",
          "data": {
            "text/plain": [
              "82.27"
            ]
          },
          "metadata": {
            "tags": []
          },
          "execution_count": 84
        }
      ]
    },
    {
      "cell_type": "code",
      "metadata": {
        "id": "VCB0KAAjzQjp",
        "colab_type": "code",
        "outputId": "092da27d-6ff1-4f0c-fa1b-e060e9e76e07",
        "colab": {
          "base_uri": "https://localhost:8080/",
          "height": 34
        }
      },
      "source": [
        "# Random Forest\n",
        "\n",
        "random_forest = RandomForestClassifier(n_estimators=100)\n",
        "random_forest.fit(X_train, y_train)\n",
        "Y_pred = random_forest.predict(X_test)\n",
        "random_forest.score(X_train, y_train)\n",
        "acc_random_forest = round(random_forest.score(X_train, y_train) * 100, 2)\n",
        "acc_random_forest"
      ],
      "execution_count": 0,
      "outputs": [
        {
          "output_type": "execute_result",
          "data": {
            "text/plain": [
              "99.88"
            ]
          },
          "metadata": {
            "tags": []
          },
          "execution_count": 85
        }
      ]
    },
    {
      "cell_type": "code",
      "metadata": {
        "id": "bhdSnJXJzdV0",
        "colab_type": "code",
        "outputId": "52b16dea-e937-40ef-ddfd-759c89d4fde5",
        "colab": {
          "base_uri": "https://localhost:8080/",
          "height": 235
        }
      },
      "source": [
        "models = pd.DataFrame({\n",
        "    'Model': ['Naive Bayes','Logistic Regression','Support Vector Machines', 'KNN',  \n",
        "              'Stochastic Gradient Decent','Random Forest'],\n",
        "    'Score': [acc_gaussian,acc_log,  acc_svc, acc_knn, \n",
        "              acc_sgd,acc_random_forest]})\n",
        "models.sort_values(by='Score', ascending=False)"
      ],
      "execution_count": 0,
      "outputs": [
        {
          "output_type": "execute_result",
          "data": {
            "text/html": [
              "<div>\n",
              "<style scoped>\n",
              "    .dataframe tbody tr th:only-of-type {\n",
              "        vertical-align: middle;\n",
              "    }\n",
              "\n",
              "    .dataframe tbody tr th {\n",
              "        vertical-align: top;\n",
              "    }\n",
              "\n",
              "    .dataframe thead th {\n",
              "        text-align: right;\n",
              "    }\n",
              "</style>\n",
              "<table border=\"1\" class=\"dataframe\">\n",
              "  <thead>\n",
              "    <tr style=\"text-align: right;\">\n",
              "      <th></th>\n",
              "      <th>Model</th>\n",
              "      <th>Score</th>\n",
              "    </tr>\n",
              "  </thead>\n",
              "  <tbody>\n",
              "    <tr>\n",
              "      <th>5</th>\n",
              "      <td>Random Forest</td>\n",
              "      <td>99.88</td>\n",
              "    </tr>\n",
              "    <tr>\n",
              "      <th>2</th>\n",
              "      <td>Support Vector Machines</td>\n",
              "      <td>89.24</td>\n",
              "    </tr>\n",
              "    <tr>\n",
              "      <th>3</th>\n",
              "      <td>KNN</td>\n",
              "      <td>87.64</td>\n",
              "    </tr>\n",
              "    <tr>\n",
              "      <th>1</th>\n",
              "      <td>Logistic Regression</td>\n",
              "      <td>82.29</td>\n",
              "    </tr>\n",
              "    <tr>\n",
              "      <th>0</th>\n",
              "      <td>Naive Bayes</td>\n",
              "      <td>82.27</td>\n",
              "    </tr>\n",
              "    <tr>\n",
              "      <th>4</th>\n",
              "      <td>Stochastic Gradient Decent</td>\n",
              "      <td>82.27</td>\n",
              "    </tr>\n",
              "  </tbody>\n",
              "</table>\n",
              "</div>"
            ],
            "text/plain": [
              "                        Model  Score\n",
              "5               Random Forest  99.88\n",
              "2     Support Vector Machines  89.24\n",
              "3                         KNN  87.64\n",
              "1         Logistic Regression  82.29\n",
              "0                 Naive Bayes  82.27\n",
              "4  Stochastic Gradient Decent  82.27"
            ]
          },
          "metadata": {
            "tags": []
          },
          "execution_count": 86
        }
      ]
    },
    {
      "cell_type": "markdown",
      "metadata": {
        "id": "dZcHbl5S2Tkx",
        "colab_type": "text"
      },
      "source": [
        "I chose models that can handle with binary classification and the results are very interesting we see that RF has the best score but we need to double check for overfitting.\n",
        "\n",
        "If I will have more time I will try to tune the hyperpararmeters of the model and to see which features affects on the decision.\n",
        " \n",
        "Thank you for the exam.\n",
        "I hope to hear from you soon."
      ]
    }
  ]
}